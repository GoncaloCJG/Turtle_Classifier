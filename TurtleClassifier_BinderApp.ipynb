{
 "cells": [
  {
   "cell_type": "code",
   "execution_count": 1,
   "id": "7b0ef6e0",
   "metadata": {},
   "outputs": [
    {
     "name": "stderr",
     "output_type": "stream",
     "text": [
      "Enabling: voila\n",
      "- Writing config: C:\\Users\\Utilizador\\miniconda3\\etc\\jupyter\n",
      "    - Validating...\n",
      "      voila 0.2.10 ok\n"
     ]
    }
   ],
   "source": [
    "!jupyter serverextension enable voila --sys-prefix"
   ]
  },
  {
   "cell_type": "code",
   "execution_count": 2,
   "id": "5ab0dda9",
   "metadata": {},
   "outputs": [],
   "source": [
    "import pathlib\n",
    "from fastbook import *\n",
    "from fastai.vision.widgets import *"
   ]
  },
  {
   "cell_type": "code",
   "execution_count": 3,
   "id": "6e056cfa",
   "metadata": {},
   "outputs": [],
   "source": [
    "def new_path(cls, *args, **kwargs):\n",
    "    cls = pathlib.WindowsPath\n",
    "    self = cls._from_parts(args, init=False)\n",
    "    if not self._flavour.is_supported:\n",
    "        raise NotImplementedError(\"cannot instantiate %r on your system\"\n",
    "                                  % (cls.__name__,))\n",
    "    self._init()\n",
    "    return self\n",
    "\n",
    "Path.__new__ = new_path"
   ]
  },
  {
   "cell_type": "code",
   "execution_count": 4,
   "id": "a9f1d213",
   "metadata": {},
   "outputs": [],
   "source": [
    "path = Path()\n",
    "learn_inf = load_learner(path/\"export.pkl\", cpu=True)"
   ]
  },
  {
   "cell_type": "code",
   "execution_count": 5,
   "id": "3a64a7ce",
   "metadata": {},
   "outputs": [],
   "source": [
    "btn_upload = widgets.FileUpload()\n",
    "out_pl = widgets.Output()\n",
    "lbl_pred = widgets.Label()\n",
    "\n",
    "def on_click_classify(change):\n",
    "    img = PILImage.create(btn_upload.data[-1])\n",
    "    out_pl.clear_output()\n",
    "    with out_pl: display(img.to_thumb(128,128))\n",
    "    pred,pred_idx,probs = learn_inf.predict(img)\n",
    "    lbl_pred.value = f'Prediction: {pred}; Probability: {probs[pred_idx]:.04f}'\n",
    "    \n",
    "btn_upload.observe(on_click_classify, names=['data'])"
   ]
  },
  {
   "cell_type": "markdown",
   "id": "5388869a",
   "metadata": {},
   "source": [
    "# The Turtle Classifier!"
   ]
  },
  {
   "cell_type": "code",
   "execution_count": 6,
   "id": "b1afc01d",
   "metadata": {},
   "outputs": [
    {
     "data": {
      "application/vnd.jupyter.widget-view+json": {
       "model_id": "29f52ccec2b54923a839ba56902e17d4",
       "version_major": 2,
       "version_minor": 0
      },
      "text/plain": [
       "VBox(children=(Label(value='This model can classify \"Aldabra Tortoises\" from \"Hawksbill Turtles\" and from \"Red…"
      ]
     },
     "metadata": {},
     "output_type": "display_data"
    },
    {
     "data": {
      "text/html": [],
      "text/plain": [
       "<IPython.core.display.HTML object>"
      ]
     },
     "metadata": {},
     "output_type": "display_data"
    }
   ],
   "source": [
    "display(VBox([widgets.Label('This model can classify \"Aldabra Tortoises\" from \"Hawksbill Turtles\" and from \"Red Eared Slider Turtles\". To properly test it, search and upload an image of one of these species and see if the model is correct!'),\n",
    "      btn_upload, out_pl, lbl_pred]))"
   ]
  }
 ],
 "metadata": {
  "celltoolbar": "Tags",
  "kernelspec": {
   "display_name": "Python 3 (ipykernel)",
   "language": "python",
   "name": "python3"
  },
  "language_info": {
   "codemirror_mode": {
    "name": "ipython",
    "version": 3
   },
   "file_extension": ".py",
   "mimetype": "text/x-python",
   "name": "python",
   "nbconvert_exporter": "python",
   "pygments_lexer": "ipython3",
   "version": "3.8.5"
  }
 },
 "nbformat": 4,
 "nbformat_minor": 5
}
