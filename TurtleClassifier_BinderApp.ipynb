{
 "cells": [
  {
   "cell_type": "code",
   "execution_count": 3,
   "id": "5ff57c4e",
   "metadata": {},
   "outputs": [
    {
     "name": "stderr",
     "output_type": "stream",
     "text": [
      "Installing C:\\Users\\Utilizador\\miniconda3\\lib\\site-packages\\voila\\static -> voila\n",
      "Up to date: C:\\Users\\Utilizador\\miniconda3\\share\\jupyter\\nbextensions\\voila\\extension.js\n",
      "- Validating: ok\n",
      "\n",
      "    To initialize this nbextension in the browser every time the notebook (or other app) loads:\n",
      "    \n",
      "          jupyter nbextension enable voila --py --sys-prefix\n",
      "    \n",
      "Enabling notebook extension voila/extension...\n",
      "      - Validating: ok\n"
     ]
    }
   ],
   "source": [
    "!jupyter nbextension install voila --sys-prefix --py\n",
    "!jupyter nbextension enable voila --sys-prefix --py"
   ]
  },
  {
   "cell_type": "code",
   "execution_count": 4,
   "id": "5ab0dda9",
   "metadata": {},
   "outputs": [],
   "source": [
    "import pathlib\n",
    "from fastbook import *\n",
    "from fastai.vision.widgets import *"
   ]
  },
  {
   "cell_type": "code",
   "execution_count": 5,
   "id": "e699b334",
   "metadata": {},
   "outputs": [],
   "source": [
    "def new_path(cls, *args, **kwargs):\n",
    "    cls = pathlib.WindowsPath\n",
    "    self = cls._from_parts(args, init=False)\n",
    "    if not self._flavour.is_supported:\n",
    "        raise NotImplementedError(\"cannot instantiate %r on your system\"\n",
    "                                  % (cls.__name__,))\n",
    "    self._init()\n",
    "    return self\n",
    "\n",
    "Path.__new__ = new_path"
   ]
  },
  {
   "cell_type": "code",
   "execution_count": 6,
   "id": "a9f1d213",
   "metadata": {},
   "outputs": [],
   "source": [
    "path = Path(\"C:/Users/Utilizador/Jupyter_Projects/DL_fastai/\")\n",
    "learn_inf = load_learner(\"C:/Users/Utilizador/Jupyter_Projects/DL_fastai/export.pkl\", cpu=True)"
   ]
  },
  {
   "cell_type": "code",
   "execution_count": 7,
   "id": "3a64a7ce",
   "metadata": {},
   "outputs": [],
   "source": [
    "btn_upload = widgets.FileUpload()\n",
    "out_pl = widgets.Output()\n",
    "lbl_pred = widgets.Label()\n",
    "\n",
    "def on_click_classify(change):\n",
    "    img = PILImage.create(btn_upload.data[-1])\n",
    "    out_pl.clear_output()\n",
    "    with out_pl: display(img.to_thumb(128,128))\n",
    "    pred,pred_idx,probs = learn_inf.predict(img)\n",
    "    lbl_pred.value = f'Prediction: {pred}; Probability: {probs[pred_idx]:.04f}'\n",
    "    \n",
    "btn_upload.observe(on_click_classify, names=['data'])"
   ]
  },
  {
   "cell_type": "markdown",
   "id": "5388869a",
   "metadata": {},
   "source": [
    "# The Turtle Classifier!"
   ]
  },
  {
   "cell_type": "code",
   "execution_count": 8,
   "id": "b1afc01d",
   "metadata": {},
   "outputs": [
    {
     "data": {
      "application/vnd.jupyter.widget-view+json": {
       "model_id": "c9728bdcccbb41f0a47d6c43ef0e8d3d",
       "version_major": 2,
       "version_minor": 0
      },
      "text/plain": [
       "VBox(children=(Label(value='This model can classify \"Aldabra Tortoises\" from \"Hawksbill Turtles\" and from \"Red…"
      ]
     },
     "metadata": {},
     "output_type": "display_data"
    },
    {
     "data": {
      "text/html": [],
      "text/plain": [
       "<IPython.core.display.HTML object>"
      ]
     },
     "metadata": {},
     "output_type": "display_data"
    }
   ],
   "source": [
    "display(VBox([widgets.Label('This model can classify \"Aldabra Tortoises\" from \"Hawksbill Turtles\" and from \"Red Eared Slider Turtles\". To properly test it, search and upload an image of one of these species and see if the model is correct!'),\n",
    "      btn_upload, out_pl, lbl_pred]))"
   ]
  }
 ],
 "metadata": {
  "celltoolbar": "Tags",
  "kernelspec": {
   "display_name": "Python 3 (ipykernel)",
   "language": "python",
   "name": "python3"
  },
  "language_info": {
   "codemirror_mode": {
    "name": "ipython",
    "version": 3
   },
   "file_extension": ".py",
   "mimetype": "text/x-python",
   "name": "python",
   "nbconvert_exporter": "python",
   "pygments_lexer": "ipython3",
   "version": "3.8.5"
  }
 },
 "nbformat": 4,
 "nbformat_minor": 5
}
