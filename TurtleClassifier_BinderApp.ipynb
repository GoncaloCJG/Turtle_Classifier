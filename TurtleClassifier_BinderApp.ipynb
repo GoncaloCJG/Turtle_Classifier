{
 "cells": [
  {
   "cell_type": "code",
   "execution_count": 1,
   "id": "5ff57c4e",
   "metadata": {},
   "outputs": [
    {
     "name": "stderr",
     "output_type": "stream",
     "text": [
      "Enabling: voila\n",
      "- Writing config: C:\\Users\\Utilizador\\miniconda3\\etc\\jupyter\n",
      "    - Validating...\n",
      "      voila 0.2.10 ok\n"
     ]
    }
   ],
   "source": [
    "!jupyter serverextension enable --sys-prefix voila"
   ]
  },
  {
   "cell_type": "code",
   "execution_count": 2,
   "id": "d5ea82ef",
   "metadata": {},
   "outputs": [],
   "source": [
    "#!voila --TagRemovePreprocessor.remove_all_outputs_tags='skip'"
   ]
  },
  {
   "cell_type": "code",
   "execution_count": 2,
   "id": "5ab0dda9",
   "metadata": {},
   "outputs": [],
   "source": [
    "import pathlib\n",
    "#!pip install graphviz\n",
    "from fastbook import *\n",
    "from fastai.vision.widgets import *"
   ]
  },
  {
   "cell_type": "code",
   "execution_count": 3,
   "id": "e699b334",
   "metadata": {},
   "outputs": [],
   "source": [
    "def new_path(cls, *args, **kwargs):\n",
    "    cls = pathlib.WindowsPath\n",
    "    self = cls._from_parts(args, init=False)\n",
    "    if not self._flavour.is_supported:\n",
    "        raise NotImplementedError(\"cannot instantiate %r on your system\"\n",
    "                                  % (cls.__name__,))\n",
    "    self._init()\n",
    "    return self\n",
    "\n",
    "Path.__new__ = new_path"
   ]
  },
  {
   "cell_type": "code",
   "execution_count": 5,
   "id": "a9f1d213",
   "metadata": {},
   "outputs": [],
   "source": [
    "path = Path(\"C:/Users/Utilizador/Jupyter_Projects/DL_fastai/\")\n",
    "learn_inf = load_learner(\"C:/Users/Utilizador/Jupyter_Projects/DL_fastai/export.pkl\", cpu=True)"
   ]
  },
  {
   "cell_type": "code",
   "execution_count": 6,
   "id": "3a64a7ce",
   "metadata": {},
   "outputs": [],
   "source": [
    "btn_upload = widgets.FileUpload()\n",
    "btn_run = widgets.Button(description='Classify')\n",
    "out_pl = widgets.Output()\n",
    "lbl_pred = widgets.Label()\n",
    "\n",
    "def on_click_classify(change):\n",
    "    img = PILImage.create(btn_upload.data[-1])\n",
    "    out_pl.clear_output()\n",
    "    with out_pl: display(img.to_thumb(128,128))\n",
    "    pred,pred_idx,probs = learn_inf.predict(img)\n",
    "    lbl_pred.value = f'Prediction: {pred}; Probability: {probs[pred_idx]:.04f}'\n",
    "    \n",
    "btn_run.on_click(on_click_classify)"
   ]
  },
  {
   "cell_type": "code",
   "execution_count": 7,
   "id": "b1afc01d",
   "metadata": {},
   "outputs": [
    {
     "data": {
      "application/vnd.jupyter.widget-view+json": {
       "model_id": "6630705708bb4990aacb60bfdb7f0725",
       "version_major": 2,
       "version_minor": 0
      },
      "text/plain": [
       "VBox(children=(Label(value='This model can classify \"Aldabra Tortoises\" from \"Hawksbill Turtles\" and from \"Red…"
      ]
     },
     "metadata": {},
     "output_type": "display_data"
    }
   ],
   "source": [
    "VBox([widgets.Label('This model can classify \"Aldabra Tortoises\" from \"Hawksbill Turtles\" and from \"Red Eared Slider Turtles\". To properly test it, search and upload an image of one of these species and see if the model is correct!'),\n",
    "      btn_upload, btn_run, out_pl, lbl_pred])"
   ]
  }
 ],
 "metadata": {
  "celltoolbar": "Tags",
  "kernelspec": {
   "display_name": "Python 3 (ipykernel)",
   "language": "python",
   "name": "python3"
  },
  "language_info": {
   "codemirror_mode": {
    "name": "ipython",
    "version": 3
   },
   "file_extension": ".py",
   "mimetype": "text/x-python",
   "name": "python",
   "nbconvert_exporter": "python",
   "pygments_lexer": "ipython3",
   "version": "3.8.5"
  }
 },
 "nbformat": 4,
 "nbformat_minor": 5
}
